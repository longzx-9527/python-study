{
 "cells": [
  {
   "cell_type": "markdown",
   "metadata": {},
   "source": [
    "# 一.`ipython`相关\n",
    "\n",
    "## 1.Ipython解释器安装\n",
    "命令行中输入\n",
    "```\n",
    "pip install ipython\n",
    "\n",
    "```\n",
    "\n",
    "## 2.测试\n",
    "\n",
    "在命令行直接输入\n",
    "```\n",
    "    ipython\n",
    "\n",
    "```\n",
    "<a id='lookipython'></a>\n",
    "## 3.ipython使用\n",
    "\n",
    "通常我们并不使用Python自带的解释器，而是使用另一个比较方便的解释器——ipython解释器，命令行下输入：\n",
    "\n",
    "ipython\n",
    "\n",
    "即可进入ipython解释器。\n",
    "\n",
    "所有在python解释器下可以运行的代码都可以在ipython解释器下运行\n"
   ]
  },
  {
   "cell_type": "code",
   "execution_count": 2,
   "metadata": {},
   "outputs": [
    {
     "name": "stdout",
     "output_type": "stream",
     "text": [
      "hello world\n"
     ]
    }
   ],
   "source": [
    "print (\"hello world\")"
   ]
  },
  {
   "cell_type": "markdown",
   "metadata": {},
   "source": [
    "直接在解释器中输入变量名，会显示变量的值（不需要加print）："
   ]
  },
  {
   "cell_type": "code",
   "execution_count": 3,
   "metadata": {},
   "outputs": [],
   "source": [
    "a = 3"
   ]
  },
  {
   "cell_type": "code",
   "execution_count": 4,
   "metadata": {},
   "outputs": [
    {
     "data": {
      "text/plain": [
       "3"
      ]
     },
     "execution_count": 4,
     "metadata": {},
     "output_type": "execute_result"
    }
   ],
   "source": [
    "a"
   ]
  },
  {
   "cell_type": "markdown",
   "metadata": {},
   "source": [
    "ipython magic命令\n",
    "ipython解释器提供了很多以百分号%开头的magic命令，这些命令很像linux系统下的命令行命令（事实上有些是一样的）。\n",
    "\n",
    "查看所有的magic命令："
   ]
  },
  {
   "cell_type": "code",
   "execution_count": 5,
   "metadata": {},
   "outputs": [
    {
     "data": {
      "application/json": {
       "cell": {
        "!": "OSMagics",
        "HTML": "Other",
        "SVG": "Other",
        "bash": "Other",
        "capture": "ExecutionMagics",
        "cmd": "Other",
        "debug": "ExecutionMagics",
        "file": "Other",
        "html": "DisplayMagics",
        "javascript": "DisplayMagics",
        "js": "DisplayMagics",
        "latex": "DisplayMagics",
        "markdown": "DisplayMagics",
        "perl": "Other",
        "prun": "ExecutionMagics",
        "pypy": "Other",
        "python": "Other",
        "python2": "Other",
        "python3": "Other",
        "ruby": "Other",
        "script": "ScriptMagics",
        "sh": "Other",
        "svg": "DisplayMagics",
        "sx": "OSMagics",
        "system": "OSMagics",
        "time": "ExecutionMagics",
        "timeit": "ExecutionMagics",
        "writefile": "OSMagics"
       },
       "line": {
        "alias": "OSMagics",
        "alias_magic": "BasicMagics",
        "autocall": "AutoMagics",
        "automagic": "AutoMagics",
        "autosave": "KernelMagics",
        "bookmark": "OSMagics",
        "cd": "OSMagics",
        "clear": "KernelMagics",
        "cls": "KernelMagics",
        "colors": "BasicMagics",
        "config": "ConfigMagics",
        "connect_info": "KernelMagics",
        "copy": "Other",
        "ddir": "Other",
        "debug": "ExecutionMagics",
        "dhist": "OSMagics",
        "dirs": "OSMagics",
        "doctest_mode": "BasicMagics",
        "echo": "Other",
        "ed": "Other",
        "edit": "KernelMagics",
        "env": "OSMagics",
        "gui": "BasicMagics",
        "hist": "Other",
        "history": "HistoryMagics",
        "killbgscripts": "ScriptMagics",
        "ldir": "Other",
        "less": "KernelMagics",
        "load": "CodeMagics",
        "load_ext": "ExtensionMagics",
        "loadpy": "CodeMagics",
        "logoff": "LoggingMagics",
        "logon": "LoggingMagics",
        "logstart": "LoggingMagics",
        "logstate": "LoggingMagics",
        "logstop": "LoggingMagics",
        "ls": "Other",
        "lsmagic": "BasicMagics",
        "macro": "ExecutionMagics",
        "magic": "BasicMagics",
        "matplotlib": "PylabMagics",
        "mkdir": "Other",
        "more": "KernelMagics",
        "notebook": "BasicMagics",
        "page": "BasicMagics",
        "pastebin": "CodeMagics",
        "pdb": "ExecutionMagics",
        "pdef": "NamespaceMagics",
        "pdoc": "NamespaceMagics",
        "pfile": "NamespaceMagics",
        "pinfo": "NamespaceMagics",
        "pinfo2": "NamespaceMagics",
        "pip": "BasicMagics",
        "popd": "OSMagics",
        "pprint": "BasicMagics",
        "precision": "BasicMagics",
        "profile": "BasicMagics",
        "prun": "ExecutionMagics",
        "psearch": "NamespaceMagics",
        "psource": "NamespaceMagics",
        "pushd": "OSMagics",
        "pwd": "OSMagics",
        "pycat": "OSMagics",
        "pylab": "PylabMagics",
        "qtconsole": "KernelMagics",
        "quickref": "BasicMagics",
        "recall": "HistoryMagics",
        "rehashx": "OSMagics",
        "reload_ext": "ExtensionMagics",
        "ren": "Other",
        "rep": "Other",
        "rerun": "HistoryMagics",
        "reset": "NamespaceMagics",
        "reset_selective": "NamespaceMagics",
        "rmdir": "Other",
        "run": "ExecutionMagics",
        "save": "CodeMagics",
        "sc": "OSMagics",
        "set_env": "OSMagics",
        "store": "StoreMagics",
        "sx": "OSMagics",
        "system": "OSMagics",
        "tb": "ExecutionMagics",
        "time": "ExecutionMagics",
        "timeit": "ExecutionMagics",
        "unalias": "OSMagics",
        "unload_ext": "ExtensionMagics",
        "who": "NamespaceMagics",
        "who_ls": "NamespaceMagics",
        "whos": "NamespaceMagics",
        "xdel": "NamespaceMagics",
        "xmode": "BasicMagics"
       }
      },
      "text/plain": [
       "Available line magics:\n",
       "%alias  %alias_magic  %autocall  %automagic  %autosave  %bookmark  %cd  %clear  %cls  %colors  %config  %connect_info  %copy  %ddir  %debug  %dhist  %dirs  %doctest_mode  %echo  %ed  %edit  %env  %gui  %hist  %history  %killbgscripts  %ldir  %less  %load  %load_ext  %loadpy  %logoff  %logon  %logstart  %logstate  %logstop  %ls  %lsmagic  %macro  %magic  %matplotlib  %mkdir  %more  %notebook  %page  %pastebin  %pdb  %pdef  %pdoc  %pfile  %pinfo  %pinfo2  %popd  %pprint  %precision  %profile  %prun  %psearch  %psource  %pushd  %pwd  %pycat  %pylab  %qtconsole  %quickref  %recall  %rehashx  %reload_ext  %ren  %rep  %rerun  %reset  %reset_selective  %rmdir  %run  %save  %sc  %set_env  %store  %sx  %system  %tb  %time  %timeit  %unalias  %unload_ext  %who  %who_ls  %whos  %xdel  %xmode\n",
       "\n",
       "Available cell magics:\n",
       "%%!  %%HTML  %%SVG  %%bash  %%capture  %%cmd  %%debug  %%file  %%html  %%javascript  %%js  %%latex  %%markdown  %%perl  %%prun  %%pypy  %%python  %%python2  %%python3  %%ruby  %%script  %%sh  %%svg  %%sx  %%system  %%time  %%timeit  %%writefile\n",
       "\n",
       "Automagic is ON, % prefix IS NOT needed for line magics."
      ]
     },
     "execution_count": 5,
     "metadata": {},
     "output_type": "execute_result"
    }
   ],
   "source": [
    "%lsmagic"
   ]
  },
  {
   "cell_type": "markdown",
   "metadata": {},
   "source": [
    "---\n",
    "`line magic` 以一个百分号开头，作用与一行；\n",
    "\n",
    "`cell magic` 以两个百分号开头，作用于整个cell。\n",
    "\n",
    "最后一行`Automagic is ON, % prefix IS NOT needed for line magics.`说明在此时即使不加上%也可以使用这些命令。\n",
    "\n",
    "使用 `whos` 查看当前的变量空间："
   ]
  },
  {
   "cell_type": "code",
   "execution_count": 6,
   "metadata": {},
   "outputs": [
    {
     "name": "stdout",
     "output_type": "stream",
     "text": [
      "Variable   Type    Data/Info\n",
      "----------------------------\n",
      "a          int     3\n"
     ]
    }
   ],
   "source": [
    "whos\n"
   ]
  },
  {
   "cell_type": "code",
   "execution_count": 7,
   "metadata": {},
   "outputs": [],
   "source": [
    "b = [1,2,3]"
   ]
  },
  {
   "cell_type": "code",
   "execution_count": 8,
   "metadata": {},
   "outputs": [
    {
     "name": "stdout",
     "output_type": "stream",
     "text": [
      "Variable   Type    Data/Info\n",
      "----------------------------\n",
      "a          int     3\n",
      "b          list    n=3\n"
     ]
    }
   ],
   "source": [
    "whos"
   ]
  },
  {
   "cell_type": "markdown",
   "metadata": {},
   "source": [
    "使用 `reset` 重置当前变量空间："
   ]
  },
  {
   "cell_type": "code",
   "execution_count": 10,
   "metadata": {},
   "outputs": [],
   "source": [
    "reset -f"
   ]
  },
  {
   "cell_type": "markdown",
   "metadata": {},
   "source": [
    "再查看当前变量空间："
   ]
  },
  {
   "cell_type": "code",
   "execution_count": 11,
   "metadata": {},
   "outputs": [
    {
     "name": "stdout",
     "output_type": "stream",
     "text": [
      "Interactive namespace is empty.\n"
     ]
    }
   ],
   "source": [
    "whos"
   ]
  },
  {
   "cell_type": "markdown",
   "metadata": {},
   "source": [
    "使用 `pwd` 查看当前工作文件夹："
   ]
  },
  {
   "cell_type": "code",
   "execution_count": 12,
   "metadata": {},
   "outputs": [
    {
     "data": {
      "text/plain": [
       "'F:\\\\python-study\\\\python-study\\\\1-python-tools'"
      ]
     },
     "execution_count": 12,
     "metadata": {},
     "output_type": "execute_result"
    }
   ],
   "source": [
    "%pwd"
   ]
  },
  {
   "cell_type": "markdown",
   "metadata": {},
   "source": [
    "使用 `mkdir` 产生新文件夹："
   ]
  },
  {
   "cell_type": "code",
   "execution_count": 13,
   "metadata": {},
   "outputs": [],
   "source": [
    "%mkdir test"
   ]
  },
  {
   "cell_type": "code",
   "execution_count": 17,
   "metadata": {},
   "outputs": [
    {
     "name": "stdout",
     "output_type": "stream",
     "text": [
      " 驱动器 F 中的卷是 文档\n",
      " 卷的序列号是 E819-B954\n",
      "\n",
      " F:\\python-study\\python-study\\1-python-tools\\test 的目录\n",
      "\n",
      "2018/01/27  13:37    <DIR>          .\n",
      "2018/01/27  13:37    <DIR>          ..\n",
      "               0 个文件              0 字节\n",
      "               2 个目录 267,158,093,824 可用字节\n"
     ]
    }
   ],
   "source": [
    "%ls  test"
   ]
  },
  {
   "cell_type": "code",
   "execution_count": 23,
   "metadata": {},
   "outputs": [],
   "source": [
    "a=[1,3,4]"
   ]
  },
  {
   "cell_type": "code",
   "execution_count": 35,
   "metadata": {},
   "outputs": [
    {
     "name": "stdout",
     "output_type": "stream",
     "text": [
      "\n",
      "Automagic is ON, % prefix IS NOT needed for line magics.\n"
     ]
    }
   ],
   "source": [
    "%automagic  #执行下这个命令,可以不用输入\"%\"直接使用，确定输出结果:\"Automagic is ON\""
   ]
  },
  {
   "cell_type": "code",
   "execution_count": 36,
   "metadata": {},
   "outputs": [
    {
     "name": "stdout",
     "output_type": "stream",
     "text": [
      " 驱动器 F 中的卷是 文档\n",
      " 卷的序列号是 E819-B954\n",
      "\n",
      " F:\\python-study\\python-study\\1-python-tools 的目录\n",
      "\n",
      "2018/01/27  13:51    <DIR>          .\n",
      "2018/01/27  13:51    <DIR>          ..\n",
      "2018/01/27  13:18    <DIR>          .ipynb_checkpoints\n",
      "2018/01/27  13:14             4,192 1-python-overview.ipynb\n",
      "2018/01/27  13:51            12,502 2.IPython解释器.ipynb\n",
      "2018/01/27  13:37    <DIR>          test\n",
      "               2 个文件         16,694 字节\n",
      "               4 个目录 267,158,089,728 可用字节\n"
     ]
    }
   ],
   "source": [
    "ls"
   ]
  },
  {
   "cell_type": "code",
   "execution_count": 38,
   "metadata": {},
   "outputs": [
    {
     "name": "stdout",
     "output_type": "stream",
     "text": [
      "F:\\python-study\\python-study\\1-python-tools\\test\n"
     ]
    }
   ],
   "source": [
    "cd test"
   ]
  },
  {
   "cell_type": "markdown",
   "metadata": {},
   "source": [
    "使用 `writefile` 将cell中的内容写入文件："
   ]
  },
  {
   "cell_type": "code",
   "execution_count": 62,
   "metadata": {},
   "outputs": [
    {
     "name": "stdout",
     "output_type": "stream",
     "text": [
      "Overwriting hello_world.py\n"
     ]
    }
   ],
   "source": [
    "%%writefile hello_world.py\n",
    "print(\"hello python world\")"
   ]
  },
  {
   "cell_type": "code",
   "execution_count": 63,
   "metadata": {},
   "outputs": [
    {
     "name": "stdout",
     "output_type": "stream",
     "text": [
      " 驱动器 F 中的卷是 文档\n",
      " 卷的序列号是 E819-B954\n",
      "\n",
      " F:\\python-study\\python-study\\1-python-tools\\test 的目录\n",
      "\n",
      "2018/01/27  13:59    <DIR>          .\n",
      "2018/01/27  13:59    <DIR>          ..\n",
      "2018/01/27  14:04                27 hello_world.py\n",
      "               1 个文件             27 字节\n",
      "               2 个目录 267,158,089,728 可用字节\n"
     ]
    }
   ],
   "source": [
    "ls"
   ]
  },
  {
   "cell_type": "markdown",
   "metadata": {},
   "source": [
    "使用 `run` 命令来运行这个代码："
   ]
  },
  {
   "cell_type": "code",
   "execution_count": 64,
   "metadata": {},
   "outputs": [
    {
     "name": "stdout",
     "output_type": "stream",
     "text": [
      "hello python world\n"
     ]
    }
   ],
   "source": [
    "run hello_world.py"
   ]
  },
  {
   "cell_type": "markdown",
   "metadata": {},
   "source": []
  },
  {
   "cell_type": "markdown",
   "metadata": {},
   "source": [
    "# 常用的一些功能\n",
    "1.Tab键自动完成\n",
    "```\n",
    "在shell中输入表达式时，只要按下Tab键，当前命名空间中任何与已输入的字符串相匹配的变量（对象、函数等）就会被找出来。\n",
    "\n",
    "该功能主要是用来，当我们不确定已输入的字符有什么可以操作的变量时使用。\n",
    "\n",
    "```\n",
    "![image](https://pic3.zhimg.com/80/v2-f5a4b3fc33f30d7d46a81cff9f519458_hd.jpg)\n",
    "\n",
    "2.内省\n",
    "\n",
    "```\n",
    "在变量的前面或后面加上问号（？）就可以将有关该对象的一些通用信息显示出来。\n",
    "\n",
    "该功能可以帮助我们对数据有个大概的了解与认识，尤其是对于那些几千万行的大数据时，没法全部打印出来的情况下，可以通过这种方法进行对数据的了解。\n",
    "\n",
    "```\n"
   ]
  },
  {
   "cell_type": "code",
   "execution_count": 4,
   "metadata": {},
   "outputs": [],
   "source": [
    "sum?"
   ]
  },
  {
   "cell_type": "markdown",
   "metadata": {},
   "source": [
    "Signature: sum(iterable, start=0, /)\n",
    "Docstring:\n",
    "Return the sum of a 'start' value (default: 0) plus an iterable of numbers\n",
    "\n",
    "When the iterable is empty, return the start value.\n",
    "This function is intended specifically for use with numeric values and may\n",
    "reject non-numeric types.\n",
    "Type:      builtin_function_or_method"
   ]
  },
  {
   "cell_type": "markdown",
   "metadata": {},
   "source": [
    "3.其他\n",
    "使用%time可以查看执行时间"
   ]
  },
  {
   "cell_type": "code",
   "execution_count": 1,
   "metadata": {},
   "outputs": [
    {
     "name": "stdout",
     "output_type": "stream",
     "text": [
      "Wall time: 0 ns\n"
     ]
    },
    {
     "data": {
      "text/plain": [
       "[123, 123, 345]"
      ]
     },
     "execution_count": 1,
     "metadata": {},
     "output_type": "execute_result"
    }
   ],
   "source": [
    "%time a=[123,123,345]\n",
    "a"
   ]
  },
  {
   "cell_type": "markdown",
   "metadata": {},
   "source": [
    "# 二.Jupyter使用\n",
    "\n",
    "## 1、Jupyter的各种快捷键\n",
    "\n",
    "执行当前cell，并自动跳到下一个cell：Shift Enter\n",
    "\n",
    "执行当前cell，执行后不自动调转到下一个cell：Ctrl-Enter\n",
    "\n",
    "是当前的cell进入编辑模式：Enter\n",
    "\n",
    "退出当前cell的编辑模式：Esc\n",
    "\n",
    "删除当前的cell：双D\n",
    "\n",
    "为当前的cell加入line number：单L\n",
    "\n",
    "将当前的cell转化为具有一级标题的maskdown：单1\n",
    "\n",
    "将当前的cell转化为具有二级标题的maskdown：单2\n",
    "\n",
    "将当前的cell转化为具有三级标题的maskdown：单3\n",
    "\n",
    "为一行或者多行添加/取消注释：Crtl /\n",
    "\n",
    "撤销对某个cell的删除：z\n",
    "\n",
    "浏览器的各个Tab之间切换：Crtl PgUp和Crtl PgDn\n",
    "\n",
    "快速跳转到首个cell：Crtl Home\n",
    "\n",
    "快速跳转到最后一个cell：Crtl End\n",
    "\n",
    "四、Jupyter Notebook如何导入代码\n",
    "\n",
    "## 2.在jupyter中设置link，需要设置两部分：\n",
    "\n",
    "要跳到的位置(the destination) \n",
    "需要在要跳转到的位置添加下面语句:\n",
    "```\n",
    "<a id='the_destination'></a>\n",
    "\n",
    "```\n",
    "这里的id取值任意赋值，下面在添加链接时要用\n",
    "\n",
    "需要添加链接的文字（an internal hyperlink to the destination），即点击该处可以跳转到the destination，在需要添加链接的文字后面加入：\n",
    "```\n",
    "[需要添加连接的文字](#the_destination)\n",
    "```\n",
    "\n",
    "如：\n",
    "# 查看ipython使用\n",
    "[ipython使用](#lookipython)\n",
    "\n"
   ]
  }
 ],
 "metadata": {
  "kernelspec": {
   "display_name": "Python 3",
   "language": "python",
   "name": "python3"
  },
  "language_info": {
   "codemirror_mode": {
    "name": "ipython",
    "version": 3
   },
   "file_extension": ".py",
   "mimetype": "text/x-python",
   "name": "python",
   "nbconvert_exporter": "python",
   "pygments_lexer": "ipython3",
   "version": "3.6.3"
  }
 },
 "nbformat": 4,
 "nbformat_minor": 2
}
