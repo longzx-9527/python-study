{
 "cells": [
  {
   "cell_type": "markdown",
   "metadata": {},
   "source": [
    "# 常见的数据类型\n",
    "\n",
    "数据类型 | 存储模型 |更新模型 | 访问模型 |例子\n",
    "---|---|---|---\n",
    "数字 | Scalar| 不可更改 | 直接访问 |1,123,23.22\n",
    "字符串 | Scalar| 不可更改 | 顺序访问 | 'abc'\n",
    "列表 | Container | 可更改 | 顺序访问|[1,2,4]\n",
    "元组 | Container | 不可更改 | 顺序访问|(1,3,4)\n",
    "字典 | Container | 可更改 | 映射访问|{'a':1,'b':2}\n",
    "\n",
    "\n"
   ]
  }
 ],
 "metadata": {
  "kernelspec": {
   "display_name": "Python 3",
   "language": "python",
   "name": "python3"
  },
  "language_info": {
   "codemirror_mode": {
    "name": "ipython",
    "version": 3
   },
   "file_extension": ".py",
   "mimetype": "text/x-python",
   "name": "python",
   "nbconvert_exporter": "python",
   "pygments_lexer": "ipython3",
   "version": "3.6.3"
  }
 },
 "nbformat": 4,
 "nbformat_minor": 2
}
