{
 "cells": [
  {
   "cell_type": "markdown",
   "metadata": {},
   "source": [
    "# 数字\n",
    "\n",
    "## 分类\n",
    "\n",
    "类型|例子\n",
    "---|---\n",
    "整数|a=33\n",
    "长整型|a=33L\n",
    "浮点数|a=24.33\n",
    "复数|a=2 + 3j\n",
    "\n",
    "\n",
    "## 整数主要运算：+-*/%"
   ]
  },
  {
   "cell_type": "code",
   "execution_count": 1,
   "metadata": {},
   "outputs": [
    {
     "data": {
      "text/plain": [
       "5"
      ]
     },
     "execution_count": 1,
     "metadata": {},
     "output_type": "execute_result"
    }
   ],
   "source": [
    "2 + 3 #加法"
   ]
  },
  {
   "cell_type": "code",
   "execution_count": 2,
   "metadata": {},
   "outputs": [
    {
     "data": {
      "text/plain": [
       "12"
      ]
     },
     "execution_count": 2,
     "metadata": {},
     "output_type": "execute_result"
    }
   ],
   "source": [
    "33 - 21 #减法"
   ]
  },
  {
   "cell_type": "code",
   "execution_count": 3,
   "metadata": {},
   "outputs": [
    {
     "data": {
      "text/plain": [
       "60"
      ]
     },
     "execution_count": 3,
     "metadata": {},
     "output_type": "execute_result"
    }
   ],
   "source": [
    "12 * 5 #乘法"
   ]
  },
  {
   "cell_type": "code",
   "execution_count": 4,
   "metadata": {},
   "outputs": [
    {
     "data": {
      "text/plain": [
       "2.4"
      ]
     },
     "execution_count": 4,
     "metadata": {},
     "output_type": "execute_result"
    }
   ],
   "source": [
    "12 / 5 #除法 除法(/)总是返回一个float类型数"
   ]
  },
  {
   "cell_type": "code",
   "execution_count": 5,
   "metadata": {},
   "outputs": [
    {
     "data": {
      "text/plain": [
       "2"
      ]
     },
     "execution_count": 5,
     "metadata": {},
     "output_type": "execute_result"
    }
   ],
   "source": [
    "12 // 5 #取商"
   ]
  },
  {
   "cell_type": "code",
   "execution_count": 6,
   "metadata": {},
   "outputs": [
    {
     "data": {
      "text/plain": [
       "2"
      ]
     },
     "execution_count": 6,
     "metadata": {},
     "output_type": "execute_result"
    }
   ],
   "source": [
    "12 % 5 #取余数 "
   ]
  },
  {
   "cell_type": "markdown",
   "metadata": {},
   "source": [
    "赋值： "
   ]
  },
  {
   "cell_type": "code",
   "execution_count": 7,
   "metadata": {},
   "outputs": [
    {
     "name": "stdout",
     "output_type": "stream",
     "text": [
      "num= 4\n"
     ]
    }
   ],
   "source": [
    "num = 4\n",
    "print(\"num=\",num)"
   ]
  },
  {
   "cell_type": "markdown",
   "metadata": {},
   "source": [
    "使用type()查看类型"
   ]
  },
  {
   "cell_type": "code",
   "execution_count": 8,
   "metadata": {},
   "outputs": [
    {
     "data": {
      "text/plain": [
       "int"
      ]
     },
     "execution_count": 8,
     "metadata": {},
     "output_type": "execute_result"
    }
   ],
   "source": [
    "type(num)"
   ]
  },
  {
   "cell_type": "markdown",
   "metadata": {},
   "source": [
    "幂运算"
   ]
  },
  {
   "cell_type": "code",
   "execution_count": 9,
   "metadata": {},
   "outputs": [
    {
     "data": {
      "text/plain": [
       "8"
      ]
     },
     "execution_count": 9,
     "metadata": {},
     "output_type": "execute_result"
    }
   ],
   "source": [
    "2 ** 3"
   ]
  },
  {
   "cell_type": "markdown",
   "metadata": {},
   "source": [
    "## 数字函数\n",
    "函数|操作\n",
    "---|---\n",
    "int(x)|将x转换为一个整数。\n",
    "float(x) |将x转换到一个浮点数。\n",
    "complex(x) |将x转换到一个复数，实数部分为 x，虚数部分为 0。\n",
    "complex(x, y) |将 x 和 y 转换到一个复数，实数部分为 x，虚数部分为 y。x 和 y 是数字表达式。\n",
    "abs(x)\t|返回数字的绝对值，如abs(-10) 返回 10\n",
    "ceil(x)\t|返回数字的上入整数，如math.ceil(4.1) 返回 5\n",
    "cmp(x, y)|如果 x < y 返回 -1, 如果 x == y 返回 0, 如果 x > y 返回 1。 Python 3已废弃。使用 使用 (x>y)-(x<y) 替换。\n",
    "exp(x)|返回e的x次幂(ex),如math.exp(1) 返回2.718281828459045\n",
    "fabs(x)\t|返回数字的绝对值，如math.fabs(-10) 返回10.0\n",
    "floor(x)|返回数字的下舍整数，如math.floor(4.9)返回 4\n",
    "log(x)|\t如math.log(math.e)返回1.0,math.log(100,10)返回2.0\n",
    "log10(x)|返回以10为基数的x的对数，如math.log10(100)返回 2.0\n",
    "max(x1, x2,...)|返回给定参数的最大值，参数可以为序列。\n",
    "min(x1, x2,...)|返回给定参数的最小值，参数可以为序列。\n",
    "modf(x)\t|返回x的整数部分与小数部分，两部的数值符号与x相同，整数部分以浮点型表示。\n",
    "pow(x, y)|\tx**y 运算后的值。\n",
    "round(x [,n])|返回浮点数x的四舍五入值，如给出n值，则代表舍入到小数点后的位数。\n",
    "sqrt(x)\t|返回数字x的平方根。\n",
    "choice(seq)|从序列的元素中随机挑选一个元素，比如random.choice(range(10))，从0到9中随机挑选一个整数。\n",
    "randrange ([start,] stop [,step])|从指定范围内，按指定基数递增的集合中获取一个随机数，基数缺省值为1\n",
    "random()|随机生成下一个实数，它在[0,1)范围内。\n",
    "seed([x])|改变随机数生成器的种子seed。如果你不了解其原理，你不必特别去设定seed，Python会帮你选择seed。\n",
    "shuffle(lst)|\t将序列的所有元素随机排序\n",
    "uniform(x, y)\t|随机生成下一个实数，它在[x,y]范围内。\n",
    "random.randint(x,y)|　#随机生一个整数int类型，可以指定这个整数的范围\n",
    "random.sample(sequence,length)|可以从指定的序列中，随机的截取指定长度的片断，不修改原序列。"
   ]
  }
 ],
 "metadata": {
  "kernelspec": {
   "display_name": "Python 3",
   "language": "python",
   "name": "python3"
  },
  "language_info": {
   "codemirror_mode": {
    "name": "ipython",
    "version": 3
   },
   "file_extension": ".py",
   "mimetype": "text/x-python",
   "name": "python",
   "nbconvert_exporter": "python",
   "pygments_lexer": "ipython3",
   "version": "3.6.3"
  }
 },
 "nbformat": 4,
 "nbformat_minor": 2
}
